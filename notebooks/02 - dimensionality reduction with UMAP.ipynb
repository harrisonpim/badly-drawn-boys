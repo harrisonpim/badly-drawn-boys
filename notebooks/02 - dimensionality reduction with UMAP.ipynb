{
 "cells": [
  {
   "cell_type": "markdown",
   "metadata": {},
   "source": [
    "# What is this dataset?\n",
    "The data we're using comes from Google's [Quick, Draw!](https://quickdraw.withgoogle.com/) game. The user is presented with a word or phrase, which they have to draw within a 20 second time period. A neural network then makes a guess at what the user has drawn. In creating the game, Google also created a massive dataset of doodles/drawings.\n",
    "\n",
    "The drawing process is recorded, so each drawing can be stored as a group of individual, sequential markings. A _useful_ thing to do with that data would be to look at the order in which the lines comprising each drawing were made and try to predict the drawing being made before it's even finished, but it's Google's job to be useful, not mine.\n",
    "\n",
    "Lets load in some dogs and see what they look like."
   ]
  },
  {
   "cell_type": "code",
   "execution_count": 1,
   "metadata": {
    "collapsed": true
   },
   "outputs": [],
   "source": [
    "import pandas as pd\n",
    "import numpy as np\n",
    "\n",
    "%matplotlib inline\n",
    "import matplotlib.pyplot as plt\n",
    "import seaborn as sns\n",
    "sns.set_style('white')\n",
    "plt.rcParams['figure.figsize'] = (15, 15)"
   ]
  },
  {
   "cell_type": "code",
   "execution_count": 2,
   "metadata": {
    "collapsed": true
   },
   "outputs": [],
   "source": [
    "dogs = np.load('../data/full%2Fnumpy_bitmap%2Fdog.npy')"
   ]
  },
  {
   "cell_type": "code",
   "execution_count": 3,
   "metadata": {},
   "outputs": [
    {
     "name": "stdout",
     "output_type": "stream",
     "text": [
      "[  0   0   0   0   0   0   0   0   0   0   0   0   0   0   0   0   0   0\n",
      "   0   0   0   0   0   0   0   0   0   0   0   0   0   0   0   0   0   0\n",
      "   0   0   0   0   0   0   0   0   0   0   0   0   0   0   0   0   0   0\n",
      "   0   0   0   0   0   0   0   0   0   0   0   0   0   0   0   0   0   0\n",
      "   0   0   0   0   0   0   0   0   0   0   0   0   0   0   0   0   1   8\n",
      "   0   0   0   0   0   0   0   0   0   0   0   0   0   0   0   0   0   0\n",
      "   0   0   0   0   0   0   0  81 217 251 212 160  79   9  57 102  90  73\n",
      " 134 146 124  97  74  48   3   0   0   0   0   0   0   0   0   0  85 253\n",
      " 201 126 170 228 255 251 255 255 255 255 246 230 253 255 255 255 220  97\n",
      "   4  13 135  18   0   0   0  23 246 187   5   0   0   2 179 252 156 180\n",
      " 125  61   6   0   3  25  49  84 196 255 220 191 248  37   0   0   0  93\n",
      " 255  40   0   0   0   2 234 154   0   0   0  28   6   0   0  86 205 155\n",
      "  62  68 199 254 151   0   0   0   0 123 254   0   0   5 120 227 255  93\n",
      "   0   7 192 248 174   1   0 112 255 243 253  71   5 176 249  43   0   0\n",
      "   0 123 254   0   8 188 255 210 255  25   0  78 255 247 255  25   0 153\n",
      " 250 218 253  84   0  16 230 188   0   0   0 123 254   5 179 252  87 114\n",
      " 255   8   0  35 226 238 193   0   0  50 234 226  66   0   0   0 115 254\n",
      "  28   0   0  99 255 186 253  95   0 123 254   1   0   0   0   0  58 132\n",
      " 166  32  19  11   0   0   0   0  30 255 104   0   0  32 255 255 107   0\n",
      "   0  98 255  32   0   0   0   0 220 255 254 133   0   0   0   0   0   0\n",
      "   6 255 115   0   0   0 170 112   0   0   0  41 255  88   0   0   0   0\n",
      " 109 255 255 112   0   0   0   0   0   0  15 255 105   0   0   0   0   0\n",
      "   0   0   0   1 238 145   0   0   0   0   1 246 245  15   0   0   0   0\n",
      "   0   0  88 255  67   0   0   0   0   0   0   0   0   0 183 202   0   0\n",
      "   0   0   0 246 230   0   0   0   0   0   0   1 210 206   1   0   0   0\n",
      "   0   0   0   0   0   0 112 254  39   0   9   0  32 253 227   0   7   1\n",
      "   0   0   0  80 255  83   0   0   0   0   0   0   0   0   0   0  16 244\n",
      " 146  64 250 140 223 250 216   0 208 128   0   0   0 202 214   2   0   0\n",
      "   0   0   0   0   0   0   0   0   0 152 244  66 153 254 255 173 255  86\n",
      " 235 156   0   0  73 255  90   0   0   0   0   0   0   0   0   0   0   0\n",
      "   0  20 209 245  70  47 234 166 218 255 255  60   0   0 197 218   3   0\n",
      "   0   0   0   0   0   0   0   0   0   0   0   0  18 200 248  81 137 253\n",
      " 253 198  62   0   0  88 255  97   0   0   0   0   0   0   0   0   0   0\n",
      "   0   0   0   0   0  13 191 251 121 125 131   8   0   0  39 242 188   3\n",
      "   0   0   0   0   0   0   0   0   0   0   0   0   0   0   0   0   9 168\n",
      " 255 227 119 102 102 114 233 229  23   0   0   0   0   0   0   0   0   0\n",
      "   0   0   0   0   0   0   0   0   0   0  56 188 255 255 255 255 198  35\n",
      "   0   0   0   0   0   0   0   0   0   0   0   0   0   0   0   0   0   0\n",
      "   0   0   0   0  14  17  17  17   1   0   0   0   0   0   0   0   0   0\n",
      "   0   0   0   0   0   0   0   0   0   0   0   0   0   0   0   0   0   0\n",
      "   0   0   0   0   0   0   0   0   0   0   0   0   0   0   0   0   0   0\n",
      "   0   0   0   0   0   0   0   0   0   0   0   0   0   0   0   0   0   0\n",
      "   0   0   0   0   0   0   0   0   0   0   0   0   0   0   0   0   0   0\n",
      "   0   0   0   0   0   0   0   0   0   0]\n"
     ]
    }
   ],
   "source": [
    "print(dogs[0])"
   ]
  },
  {
   "cell_type": "markdown",
   "metadata": {},
   "source": [
    "Doesn't look much like a dog to me...\n",
    "\n",
    "Lets reshape the array to be a 28x28 grid and use `plt.imshow()` to display the numbers in each cell as pixel intensities."
   ]
  },
  {
   "cell_type": "code",
   "execution_count": 4,
   "metadata": {},
   "outputs": [
    {
     "data": {
      "image/png": "[encoded data removed]",
      "text/plain": [
       "<matplotlib.figure.Figure at 0x7b36cc05af98>"
      ]
     },
     "metadata": {},
     "output_type": "display_data"
    }
   ],
   "source": [
    "dogs = dogs.reshape(-1, 28, 28)\n",
    "plt.imshow(dogs[0]);"
   ]
  },
  {
   "cell_type": "markdown",
   "metadata": {},
   "source": [
    "Fab. Lets also load in some cats and faces."
   ]
  },
  {
   "cell_type": "code",
   "execution_count": 5,
   "metadata": {
    "collapsed": true
   },
   "outputs": [],
   "source": [
    "cats = np.load('../data/full%2Fnumpy_bitmap%2Fcat.npy')\n",
    "cats = cats.reshape(-1, 28, 28)\n",
    "\n",
    "faces = np.load('../data/full%2Fnumpy_bitmap%2Fface.npy')\n",
    "faces = faces.reshape(-1, 28, 28)\n",
    "\n",
    "horses = np.load('/home/harrisonpim/Downloads/full%2Fnumpy_bitmap%2Fhorse.npy')\n",
    "horses = horses.reshape(-1, 28, 28)"
   ]
  },
  {
   "cell_type": "markdown",
   "metadata": {
    "collapsed": true
   },
   "source": [
    "# UMAP\n",
    "UMAP is a beautiful piece of work by [Leland McInnes](https://github.com/lmcinnes/umap). It's a dimensionality reduction technique, similar in application to the well known PCA or t-SNE. UMAP, though, is riduculously fast and efficient by comparison."
   ]
  },
  {
   "cell_type": "code",
   "execution_count": null,
   "metadata": {
    "collapsed": true
   },
   "outputs": [],
   "source": [
    "import umap"
   ]
  },
  {
   "cell_type": "code",
   "execution_count": null,
   "metadata": {
    "collapsed": true
   },
   "outputs": [],
   "source": [
    "data = dogs\n",
    "\n",
    "embedding = umap.UMAP().fit_transform(data.reshape(-1, 28*28)[:10000])"
   ]
  },
  {
   "cell_type": "code",
   "execution_count": null,
   "metadata": {},
   "outputs": [],
   "source": [
    "plt.rcParams['figure.figsize'] = (15, 15)\n",
    "pd.DataFrame(embedding).plot.scatter(x=0, y=1);"
   ]
  },
  {
   "cell_type": "markdown",
   "metadata": {},
   "source": [
    "### Cluster with sklearn"
   ]
  },
  {
   "cell_type": "code",
   "execution_count": null,
   "metadata": {
    "collapsed": true
   },
   "outputs": [],
   "source": [
    "from sklearn.cluster import AgglomerativeClustering\n",
    "\n",
    "cluster = AgglomerativeClustering(5)\n",
    "cluster.fit(embedding);"
   ]
  },
  {
   "cell_type": "code",
   "execution_count": null,
   "metadata": {},
   "outputs": [],
   "source": [
    "a = pd.DataFrame(embedding)\n",
    "a['label'] = cluster.labels_\n",
    "\n",
    "a.plot.scatter(x=0, y=1, c='label', cmap='Set1');"
   ]
  },
  {
   "cell_type": "markdown",
   "metadata": {},
   "source": [
    "### Exploring the UMAP clusters' latent space"
   ]
  },
  {
   "cell_type": "code",
   "execution_count": null,
   "metadata": {
    "collapsed": true
   },
   "outputs": [],
   "source": [
    "plt.rcParams['figure.figsize'] = (20, 5)\n",
    "n = 5"
   ]
  },
  {
   "cell_type": "code",
   "execution_count": null,
   "metadata": {},
   "outputs": [],
   "source": [
    "n_within_cluster = a[a['label'] == 0].sample(n).index.values\n",
    "\n",
    "f, axarr = plt.subplots(1, n)\n",
    "for i in range(n):\n",
    "    axarr[i].imshow(data[n_within_cluster[i]].reshape(28, 28))"
   ]
  },
  {
   "cell_type": "code",
   "execution_count": null,
   "metadata": {},
   "outputs": [],
   "source": [
    "n_within_cluster = a[a['label'] == 1].sample(n).index.values\n",
    "\n",
    "f, axarr = plt.subplots(1, n)\n",
    "for i in range(len(axarr)):\n",
    "    axarr[i].imshow(data[n_within_cluster[i]].reshape(28, 28))"
   ]
  },
  {
   "cell_type": "code",
   "execution_count": null,
   "metadata": {},
   "outputs": [],
   "source": [
    "n_within_cluster = a[a['label'] == 2].sample(n).index.values\n",
    "\n",
    "f, axarr = plt.subplots(1, n)\n",
    "for i in range(len(axarr)):\n",
    "    axarr[i].imshow(data[n_within_cluster[i]].reshape(28, 28))"
   ]
  },
  {
   "cell_type": "code",
   "execution_count": null,
   "metadata": {},
   "outputs": [],
   "source": [
    "n_within_cluster = a[a['label'] == 3].sample(n).index.values\n",
    "\n",
    "f, axarr = plt.subplots(1, n)\n",
    "for i in range(len(axarr)):\n",
    "    axarr[i].imshow(data[n_within_cluster[i]].reshape(28, 28))"
   ]
  },
  {
   "cell_type": "code",
   "execution_count": null,
   "metadata": {},
   "outputs": [],
   "source": [
    "n_within_cluster = a[a['label'] == 4].sample(n).index.values\n",
    "\n",
    "f, axarr = plt.subplots(1, n)\n",
    "for i in range(len(axarr)):\n",
    "    axarr[i].imshow(data[n_within_cluster[i]].reshape(28, 28))"
   ]
  },
  {
   "cell_type": "markdown",
   "metadata": {},
   "source": [
    "Those look like pretty distinct clusters to me! \n",
    "\n",
    "Even though UMAP has no convolutional aspect to it (the input data is one dimensional!), it still manages to pick out some visibly different types of dog drawing!\n",
    "\n",
    "Doing the same thing with horses and cats works phenomenally well too; cats give particularly nice clusters under UMAP. If you've cloned this work and are running it locally, set `data` to a new set of images to explore."
   ]
  },
  {
   "cell_type": "code",
   "execution_count": null,
   "metadata": {
    "collapsed": true
   },
   "outputs": [],
   "source": []
  },
  {
   "cell_type": "code",
   "execution_count": null,
   "metadata": {
    "collapsed": true
   },
   "outputs": [],
   "source": []
  }
 ],
 "metadata": {
  "kernelspec": {
   "display_name": "Python [conda root]",
   "language": "python",
   "name": "conda-root-py"
  },
  "language_info": {
   "codemirror_mode": {
    "name": "ipython",
    "version": 3
   },
   "file_extension": ".py",
   "mimetype": "text/x-python",
   "name": "python",
   "nbconvert_exporter": "python",
   "pygments_lexer": "ipython3",
   "version": "3.5.3"
  }
 },
 "nbformat": 4,
 "nbformat_minor": 2
}
