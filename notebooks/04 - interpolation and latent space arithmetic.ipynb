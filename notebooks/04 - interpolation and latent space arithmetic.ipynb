{
 "cells": [
  {
   "cell_type": "markdown",
   "metadata": {},
   "source": [
    "# Interpolation \n",
    "We started this in the last notebook - we plotted decoded representations sampled evenly from the 2D manifold of the latent space learned by our model. However, earlier in the nb we defined a 32-dimensional latent space, which we can also move through. These axes are more subtle, and therefore more likely to contain individual features which humans might identify in pics of dogs. We can move along any of these individual feature axes, or combinations thereof. \n",
    "\n",
    "We can also select any two images from our dataset and interpolate between them through the latent space of features, showing the weird mixes of two dog drawings in different ratios.\n",
    "\n",
    "# Latent Space Arithmetic\n",
    "We can also do arithmetic in the latent space. Instead of interpolating, we can add or subtract latent space representations from one another. We might be able, for instance, to grow long ears on a dog which originally had pointy ears. \n",
    "\n",
    "People have produced examples with photos of faces, ie man with glasses - man without glasses + woman without glasses = woman with glasses. People have done the same with text data."
   ]
  },
  {
   "cell_type": "code",
   "execution_count": null,
   "metadata": {
    "collapsed": true
   },
   "outputs": [],
   "source": []
  }
 ],
 "metadata": {
  "kernelspec": {
   "display_name": "Python [conda root]",
   "language": "python",
   "name": "conda-root-py"
  },
  "language_info": {
   "codemirror_mode": {
    "name": "ipython",
    "version": 3
   },
   "file_extension": ".py",
   "mimetype": "text/x-python",
   "name": "python",
   "nbconvert_exporter": "python",
   "pygments_lexer": "ipython3",
   "version": "3.5.3"
  }
 },
 "nbformat": 4,
 "nbformat_minor": 2
}
