{
 "cells": [
  {
   "cell_type": "markdown",
   "metadata": {},
   "source": [
    "# Cats vs Dogs Classifier\n",
    "This is the easy, traditional ML task that I meantioned in the README. Kind of like a cross between two classic _Machine Learning 101_ tasks: MNIST and Cats/Dogs"
   ]
  },
  {
   "cell_type": "code",
   "execution_count": 1,
   "metadata": {},
   "outputs": [],
   "source": [
    "import pandas as pd\n",
    "import numpy as np\n",
    "\n",
    "%matplotlib inline\n",
    "import matplotlib.pyplot as plt\n",
    "import seaborn as sns\n",
    "sns.set_style('white')\n",
    "plt.rcParams['figure.figsize'] = (3,3)"
   ]
  },
  {
   "cell_type": "code",
   "execution_count": 2,
   "metadata": {},
   "outputs": [
    {
     "name": "stderr",
     "output_type": "stream",
     "text": [
      "Using TensorFlow backend.\n"
     ]
    }
   ],
   "source": [
    "from keras.models import Sequential\n",
    "from keras.layers import *"
   ]
  },
  {
   "cell_type": "markdown",
   "metadata": {},
   "source": [
    "# Load and wrangle data"
   ]
  },
  {
   "cell_type": "code",
   "execution_count": 3,
   "metadata": {},
   "outputs": [],
   "source": [
    "cats = np.load('../data/full%2Fnumpy_bitmap%2Fcat.npy')\n",
    "dogs = np.load('../data/full%2Fnumpy_bitmap%2Fdog.npy')"
   ]
  },
  {
   "cell_type": "markdown",
   "metadata": {},
   "source": [
    "To display the numpy arrays as the images they once were, they need to be reshaped back into a 28x28 grid - seeing as we're going to be doing some ML with them, we should also normalise them back to values between 0 and 1. The initially come as integers between 0 and 255, so we divide by 255 to normalise."
   ]
  },
  {
   "cell_type": "code",
   "execution_count": 4,
   "metadata": {
    "collapsed": true
   },
   "outputs": [],
   "source": [
    "cats = cats.reshape(-1, 28, 28) / 255\n",
    "dogs = dogs.reshape(-1, 28, 28) / 255"
   ]
  },
  {
   "cell_type": "code",
   "execution_count": 5,
   "metadata": {},
   "outputs": [
    {
     "data": {
      "image/png": "[encoded data removed]",
      "text/plain": [
       "<matplotlib.figure.Figure at 0x7fb404597b38>"
      ]
     },
     "metadata": {},
     "output_type": "display_data"
    }
   ],
   "source": [
    "plt.imshow(cats[1]);"
   ]
  },
  {
   "cell_type": "code",
   "execution_count": 6,
   "metadata": {},
   "outputs": [
    {
     "data": {
      "image/png": "[encoded data removed]",
      "text/plain": [
       "<matplotlib.figure.Figure at 0x7fb3c3e1b908>"
      ]
     },
     "metadata": {},
     "output_type": "display_data"
    }
   ],
   "source": [
    "plt.imshow(cats[50]);"
   ]
  },
  {
   "cell_type": "code",
   "execution_count": 7,
   "metadata": {},
   "outputs": [
    {
     "data": {
      "image/png": "[encoded data removed]",
      "text/plain": [
       "<matplotlib.figure.Figure at 0x7fb3c3dc2518>"
      ]
     },
     "metadata": {},
     "output_type": "display_data"
    }
   ],
   "source": [
    "plt.imshow(dogs[1]);"
   ]
  },
  {
   "cell_type": "code",
   "execution_count": 8,
   "metadata": {},
   "outputs": [
    {
     "data": {
      "image/png": "[encoded data removed]",
      "text/plain": [
       "<matplotlib.figure.Figure at 0x7fb3c3e690f0>"
      ]
     },
     "metadata": {},
     "output_type": "display_data"
    }
   ],
   "source": [
    "plt.imshow(dogs[50]);"
   ]
  },
  {
   "cell_type": "code",
   "execution_count": 9,
   "metadata": {
    "scrolled": true
   },
   "outputs": [
    {
     "name": "stdout",
     "output_type": "stream",
     "text": [
      "number of cats:\t 123202\n",
      "number of dogs:\t 152159\n"
     ]
    }
   ],
   "source": [
    "print('number of cats:\\t', cats.shape[0])\n",
    "print('number of dogs:\\t', dogs.shape[0])"
   ]
  },
  {
   "cell_type": "markdown",
   "metadata": {},
   "source": [
    "We want also want even class sizes to ensure that we're learning actual image features and not accidentally picking up on inherent biases in the dataset, so we'll shrink the number of dogs to be equal to the number of cats"
   ]
  },
  {
   "cell_type": "code",
   "execution_count": 10,
   "metadata": {
    "collapsed": true
   },
   "outputs": [],
   "source": [
    "cats = cats[:50000]\n",
    "dogs = dogs[:len(cats)]"
   ]
  },
  {
   "cell_type": "markdown",
   "metadata": {},
   "source": [
    "We'll concatenate all of our input data (the images) into one array and call it `X`, and create a corresponding output array called `y`, where `y` is `0` if the drawing is of a dog, or `1` if it's of a cat."
   ]
  },
  {
   "cell_type": "code",
   "execution_count": 11,
   "metadata": {},
   "outputs": [],
   "source": [
    "X = np.concatenate([cats, dogs]).reshape(-1, 28, 28, 1)\n",
    "\n",
    "y = (np.concatenate([np.ones((len(cats),), dtype=np.int), \n",
    "                     np.zeros((len(dogs),), dtype=np.int)]))"
   ]
  },
  {
   "cell_type": "markdown",
   "metadata": {},
   "source": [
    "# Build Model\n",
    "The model I'm using is a variation on a classic - one well known for good preformance on MNIST, with some dropout tweaks."
   ]
  },
  {
   "cell_type": "code",
   "execution_count": 12,
   "metadata": {},
   "outputs": [],
   "source": [
    "model = Sequential([Conv2D(32, (3, 3), \n",
    "                           input_shape=(28, 28, 1)),\n",
    "                    Activation('relu'),\n",
    "                    MaxPool2D(pool_size=(2, 2)),\n",
    "                    Dropout(0.1),\n",
    "                    #\n",
    "                    Conv2D(32, (3, 3)),\n",
    "                    Activation('relu'),\n",
    "                    MaxPool2D(pool_size=(2, 2)),\n",
    "                    Dropout(0.1),\n",
    "                    #\n",
    "                    Conv2D(32, (3, 3)),\n",
    "                    Activation('relu'),\n",
    "                    MaxPool2D(pool_size=(2, 2)),\n",
    "                    Dropout(0.1),\n",
    "                    #\n",
    "                    Flatten(),\n",
    "                    Dense(64),\n",
    "                    Activation('relu'),\n",
    "                    Dense(1),\n",
    "                    Activation('sigmoid')\n",
    "                    ])"
   ]
  },
  {
   "cell_type": "markdown",
   "metadata": {},
   "source": [
    "We'll compile with the ADAM optimiser. Loss is obviously binary cross-entropy because we're dealing with two classes. Metrics set to accuracy because it's simple"
   ]
  },
  {
   "cell_type": "code",
   "execution_count": 13,
   "metadata": {},
   "outputs": [],
   "source": [
    "model.compile(loss='binary_crossentropy',\n",
    "              optimizer='adam',\n",
    "              metrics=['accuracy'])"
   ]
  },
  {
   "cell_type": "markdown",
   "metadata": {},
   "source": [
    "# Train Model\n",
    "the `.fit()` call passes our `X` and `y` data into the model we defined above, split so that we can train on 80% of the data and validate the model's accuracy on the remaining 20%. 5 epochs isn't a huge amount of time to wait for the model to train, but it's a deep, smart model with a lot of data so we should get to a reasonable stopping point by then."
   ]
  },
  {
   "cell_type": "code",
   "execution_count": 14,
   "metadata": {},
   "outputs": [
    {
     "name": "stdout",
     "output_type": "stream",
     "text": [
      "Train on 80000 samples, validate on 20000 samples\n",
      "Epoch 1/5\n",
      "80000/80000 [==============================] - 138s - loss: 0.3682 - acc: 0.8277 - val_loss: 0.4633 - val_acc: 0.7850\n",
      "Epoch 2/5\n",
      "80000/80000 [==============================] - 134s - loss: 0.3033 - acc: 0.8656 - val_loss: 0.4836 - val_acc: 0.7952\n",
      "Epoch 3/5\n",
      "80000/80000 [==============================] - 138s - loss: 0.2842 - acc: 0.8740 - val_loss: 0.4754 - val_acc: 0.7824\n",
      "Epoch 4/5\n",
      "80000/80000 [==============================] - 136s - loss: 0.2732 - acc: 0.8797 - val_loss: 0.3689 - val_acc: 0.8524\n",
      "Epoch 5/5\n",
      "80000/80000 [==============================] - 140s - loss: 0.2662 - acc: 0.8822 - val_loss: 0.3605 - val_acc: 0.8621\n"
     ]
    },
    {
     "data": {
      "text/plain": [
       "<keras.callbacks.History at 0x7fb3c38f6b00>"
      ]
     },
     "execution_count": 14,
     "metadata": {},
     "output_type": "execute_result"
    }
   ],
   "source": [
    "model.fit(X, y, \n",
    "          batch_size=32,\n",
    "          validation_split=0.2,\n",
    "          epochs=5)"
   ]
  },
  {
   "cell_type": "markdown",
   "metadata": {},
   "source": [
    "Final validation accuracy of 86%! Pretty good when you consider how wonky the training data is, and the fact that we've done none of the normal preprocessing! I'd be surprised if human accuracy was significantly higher. "
   ]
  },
  {
   "cell_type": "code",
   "execution_count": null,
   "metadata": {
    "collapsed": true
   },
   "outputs": [],
   "source": []
  }
 ],
 "metadata": {
  "kernelspec": {
   "display_name": "Python [conda root]",
   "language": "python",
   "name": "conda-root-py"
  },
  "language_info": {
   "codemirror_mode": {
    "name": "ipython",
    "version": 3
   },
   "file_extension": ".py",
   "mimetype": "text/x-python",
   "name": "python",
   "nbconvert_exporter": "python",
   "pygments_lexer": "ipython3",
   "version": "3.5.3"
  }
 },
 "nbformat": 4,
 "nbformat_minor": 2
}
